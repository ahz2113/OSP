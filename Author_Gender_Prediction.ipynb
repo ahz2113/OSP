{
 "cells": [
  {
   "cell_type": "markdown",
   "metadata": {},
   "source": [
    "# Extracting author names"
   ]
  },
  {
   "cell_type": "markdown",
   "metadata": {},
   "source": [
    "Predicting author genders from OSP \"text\" table using the gender.py library, which is a python extension of genderize.io (https://genderize.io/)\n"
   ]
  },
  {
   "cell_type": "code",
   "execution_count": 1,
   "metadata": {},
   "outputs": [],
   "source": [
    "import matplotlib.pyplot as plt\n",
    "%matplotlib inline"
   ]
  },
  {
   "cell_type": "code",
   "execution_count": 2,
   "metadata": {},
   "outputs": [],
   "source": [
    "from osp_graphs.v1_db import session, Text, Field, Subfield, SubfieldDocument, Citation, Document, Institution, InstitutionDocument"
   ]
  },
  {
   "cell_type": "code",
   "execution_count": 3,
   "metadata": {},
   "outputs": [],
   "source": [
    "from sqlalchemy.sql import functions as func\n",
    "from collections import Counter\n",
    "import pandas as pd\n",
    "import requests\n",
    "from gender import getGenders"
   ]
  },
  {
   "cell_type": "code",
   "execution_count": 4,
   "metadata": {},
   "outputs": [],
   "source": [
    "authors = (session\n",
    "          .query(Text.authors)\n",
    "          .filter(Text.valid==True)\n",
    "          .filter(Text.display==True)\n",
    "          .limit(30))"
   ]
  },
  {
   "cell_type": "code",
   "execution_count": 5,
   "metadata": {},
   "outputs": [
    {
     "data": {
      "text/plain": [
       "[(['Glueck, Sheldon, 1896-1980.']),\n",
       " (['Glover, Denis, 1912-1980.']),\n",
       " (['Berlese, Antonio, 1863-1927.']),\n",
       " (['Mill, John Stuart, 1806-1873.']),\n",
       " (['Golding, Louis, 1895-1958.']),\n",
       " (['Legouvé, Ernest, 1807-1903.']),\n",
       " (['Prus, Bolesław, 1847-1912.']),\n",
       " (['Goldman, Emma, 1869-1940.']),\n",
       " (['Goldman, Emma, 1869-1940.']),\n",
       " (['Cooke, Wells Woodbridge, 1858-1916.']),\n",
       " (['Holbein, Hans, 1497-1543.']),\n",
       " (['Gnoli, Domenico, 1838-1915, editor.']),\n",
       " (['Goldman, Emma, 1869-1940.']),\n",
       " (['Lawson, Henry, 1867-1922.']),\n",
       " (['Goldhahn, Richard, 1899-1948.']),\n",
       " (['Conti, Antonio, 1677-1749.']),\n",
       " (['Glover, Richard, 1712-1785.']),\n",
       " (['Constable, John, 1676?-1744.']),\n",
       " (['Macdonald, C. Ochiltree.']),\n",
       " (['Snyder, Louis L.  (Louis Leo),  1907-1993. ed.']),\n",
       " (['Gimpel, Jean.']),\n",
       " (['Cole, Leon Jacob, 1877-1948.']),\n",
       " (['Gioja, Melchiorre, 1767-1829.']),\n",
       " (['Goldschmidt, Robert.']),\n",
       " (['Clark, Hubert Lyman, 1870-1947.']),\n",
       " (['Lipset, Seymour Martin.']),\n",
       " (['Gneist, Rudolph, 1816-1895.']),\n",
       " (['Cramer, Pieter, -1780.']),\n",
       " (['Comstock, J. L. (John Lee), 1789-1858.']),\n",
       " (['Shankar, Ramamurti.'])]"
      ]
     },
     "execution_count": 5,
     "metadata": {},
     "output_type": "execute_result"
    }
   ],
   "source": [
    "authors.all()"
   ]
  },
  {
   "cell_type": "code",
   "execution_count": 6,
   "metadata": {},
   "outputs": [
    {
     "data": {
      "text/plain": [
       "\"(['Glueck, Sheldon, 1896-1980.'],)\""
      ]
     },
     "execution_count": 6,
     "metadata": {},
     "output_type": "execute_result"
    }
   ],
   "source": [
    "x = str(authors.first())\n",
    "x"
   ]
  },
  {
   "cell_type": "code",
   "execution_count": 7,
   "metadata": {},
   "outputs": [
    {
     "data": {
      "text/plain": [
       "[\"(['Glueck\", 'Sheldon', \"1896-1980.']\", ')']"
      ]
     },
     "execution_count": 7,
     "metadata": {},
     "output_type": "execute_result"
    }
   ],
   "source": [
    "split_x = x.replace(\" \", \"\").split(\",\")\n",
    "split_x"
   ]
  },
  {
   "cell_type": "markdown",
   "metadata": {},
   "source": [
    "Isolate first name"
   ]
  },
  {
   "cell_type": "code",
   "execution_count": 8,
   "metadata": {},
   "outputs": [
    {
     "data": {
      "text/plain": [
       "'Sheldon'"
      ]
     },
     "execution_count": 8,
     "metadata": {},
     "output_type": "execute_result"
    }
   ],
   "source": [
    "split_x[1]"
   ]
  },
  {
   "cell_type": "markdown",
   "metadata": {},
   "source": [
    "Create dataFrame to store author/gender data into, this can later be converted to csv file if necessary"
   ]
  },
  {
   "cell_type": "code",
   "execution_count": 9,
   "metadata": {},
   "outputs": [],
   "source": [
    "header = ['first', 'last', 'gender']\n",
    "df = pd.DataFrame(columns = header)"
   ]
  },
  {
   "cell_type": "code",
   "execution_count": 10,
   "metadata": {},
   "outputs": [],
   "source": [
    "x = 0\n",
    "for a in authors.all():\n",
    "    #if(x > 20):\n",
    "        #break\n",
    "    \n",
    "    #format entry (WORKING)\n",
    "    entry = str(a)\n",
    "    split_entry = (entry.replace(\" \", \"\")\n",
    "                   .replace(\"(\", \"\")\n",
    "                   .replace(\"[\", \"\")\n",
    "                   .replace(\"'\", \"\")\n",
    "                   .replace(\".]\", \"\")\n",
    "                   .split(\",\"))\n",
    "                \n",
    "    first = split_entry[1]\n",
    "    #print(split_entry)\n",
    "    \n",
    "    #format last name (WORKING)\n",
    "    ln = split_entry[0]\n",
    "    last = ln.replace(\"(\", \"\").replace(\"[\", \"\").replace(\"'\", \"\")\n",
    "    \n",
    "    \n",
    "    #get gender \n",
    "    gender = getGenders(first)[0][0]\n",
    "    #print(gender)\n",
    "    #print(gender[0][0]) -- gender[0][0] isolates just the gender prediction\n",
    "    \n",
    "    #input data into the dataframe \n",
    "    df1 = pd.DataFrame({'first': first, 'last': last, 'gender': gender}, index = [x])\n",
    "    frames = [df, df1]\n",
    "    df = pd.concat(frames)\n",
    "    \n",
    "    x += 1 "
   ]
  },
  {
   "cell_type": "code",
   "execution_count": 11,
   "metadata": {},
   "outputs": [
    {
     "data": {
      "text/html": [
       "<div>\n",
       "<style scoped>\n",
       "    .dataframe tbody tr th:only-of-type {\n",
       "        vertical-align: middle;\n",
       "    }\n",
       "\n",
       "    .dataframe tbody tr th {\n",
       "        vertical-align: top;\n",
       "    }\n",
       "\n",
       "    .dataframe thead th {\n",
       "        text-align: right;\n",
       "    }\n",
       "</style>\n",
       "<table border=\"1\" class=\"dataframe\">\n",
       "  <thead>\n",
       "    <tr style=\"text-align: right;\">\n",
       "      <th></th>\n",
       "      <th>first</th>\n",
       "      <th>last</th>\n",
       "      <th>gender</th>\n",
       "    </tr>\n",
       "  </thead>\n",
       "  <tbody>\n",
       "    <tr>\n",
       "      <th>0</th>\n",
       "      <td>Sheldon</td>\n",
       "      <td>Glueck</td>\n",
       "      <td>male</td>\n",
       "    </tr>\n",
       "    <tr>\n",
       "      <th>1</th>\n",
       "      <td>Denis</td>\n",
       "      <td>Glover</td>\n",
       "      <td>male</td>\n",
       "    </tr>\n",
       "    <tr>\n",
       "      <th>2</th>\n",
       "      <td>Antonio</td>\n",
       "      <td>Berlese</td>\n",
       "      <td>male</td>\n",
       "    </tr>\n",
       "    <tr>\n",
       "      <th>3</th>\n",
       "      <td>JohnStuart</td>\n",
       "      <td>Mill</td>\n",
       "      <td>None</td>\n",
       "    </tr>\n",
       "    <tr>\n",
       "      <th>4</th>\n",
       "      <td>Louis</td>\n",
       "      <td>Golding</td>\n",
       "      <td>male</td>\n",
       "    </tr>\n",
       "    <tr>\n",
       "      <th>5</th>\n",
       "      <td>Ernest</td>\n",
       "      <td>Legouvé</td>\n",
       "      <td>male</td>\n",
       "    </tr>\n",
       "    <tr>\n",
       "      <th>6</th>\n",
       "      <td>Bolesław</td>\n",
       "      <td>Prus</td>\n",
       "      <td>None</td>\n",
       "    </tr>\n",
       "    <tr>\n",
       "      <th>7</th>\n",
       "      <td>Emma</td>\n",
       "      <td>Goldman</td>\n",
       "      <td>female</td>\n",
       "    </tr>\n",
       "    <tr>\n",
       "      <th>8</th>\n",
       "      <td>Emma</td>\n",
       "      <td>Goldman</td>\n",
       "      <td>female</td>\n",
       "    </tr>\n",
       "    <tr>\n",
       "      <th>9</th>\n",
       "      <td>WellsWoodbridge</td>\n",
       "      <td>Cooke</td>\n",
       "      <td>None</td>\n",
       "    </tr>\n",
       "    <tr>\n",
       "      <th>10</th>\n",
       "      <td>Hans</td>\n",
       "      <td>Holbein</td>\n",
       "      <td>male</td>\n",
       "    </tr>\n",
       "    <tr>\n",
       "      <th>11</th>\n",
       "      <td>Domenico</td>\n",
       "      <td>Gnoli</td>\n",
       "      <td>male</td>\n",
       "    </tr>\n",
       "    <tr>\n",
       "      <th>12</th>\n",
       "      <td>Emma</td>\n",
       "      <td>Goldman</td>\n",
       "      <td>female</td>\n",
       "    </tr>\n",
       "    <tr>\n",
       "      <th>13</th>\n",
       "      <td>Henry</td>\n",
       "      <td>Lawson</td>\n",
       "      <td>male</td>\n",
       "    </tr>\n",
       "    <tr>\n",
       "      <th>14</th>\n",
       "      <td>Richard</td>\n",
       "      <td>Goldhahn</td>\n",
       "      <td>male</td>\n",
       "    </tr>\n",
       "    <tr>\n",
       "      <th>15</th>\n",
       "      <td>Antonio</td>\n",
       "      <td>Conti</td>\n",
       "      <td>male</td>\n",
       "    </tr>\n",
       "    <tr>\n",
       "      <th>16</th>\n",
       "      <td>Richard</td>\n",
       "      <td>Glover</td>\n",
       "      <td>male</td>\n",
       "    </tr>\n",
       "    <tr>\n",
       "      <th>17</th>\n",
       "      <td>John</td>\n",
       "      <td>Constable</td>\n",
       "      <td>male</td>\n",
       "    </tr>\n",
       "    <tr>\n",
       "      <th>18</th>\n",
       "      <td>C.Ochiltree</td>\n",
       "      <td>Macdonald</td>\n",
       "      <td>None</td>\n",
       "    </tr>\n",
       "    <tr>\n",
       "      <th>19</th>\n",
       "      <td>LouisL.LouisLeo)</td>\n",
       "      <td>Snyder</td>\n",
       "      <td>None</td>\n",
       "    </tr>\n",
       "    <tr>\n",
       "      <th>20</th>\n",
       "      <td>Jean</td>\n",
       "      <td>Gimpel</td>\n",
       "      <td>female</td>\n",
       "    </tr>\n",
       "    <tr>\n",
       "      <th>21</th>\n",
       "      <td>LeonJacob</td>\n",
       "      <td>Cole</td>\n",
       "      <td>None</td>\n",
       "    </tr>\n",
       "    <tr>\n",
       "      <th>22</th>\n",
       "      <td>Melchiorre</td>\n",
       "      <td>Gioja</td>\n",
       "      <td>None</td>\n",
       "    </tr>\n",
       "    <tr>\n",
       "      <th>23</th>\n",
       "      <td>Robert</td>\n",
       "      <td>Goldschmidt</td>\n",
       "      <td>male</td>\n",
       "    </tr>\n",
       "    <tr>\n",
       "      <th>24</th>\n",
       "      <td>HubertLyman</td>\n",
       "      <td>Clark</td>\n",
       "      <td>None</td>\n",
       "    </tr>\n",
       "    <tr>\n",
       "      <th>25</th>\n",
       "      <td>SeymourMartin</td>\n",
       "      <td>Lipset</td>\n",
       "      <td>None</td>\n",
       "    </tr>\n",
       "    <tr>\n",
       "      <th>26</th>\n",
       "      <td>Rudolph</td>\n",
       "      <td>Gneist</td>\n",
       "      <td>male</td>\n",
       "    </tr>\n",
       "    <tr>\n",
       "      <th>27</th>\n",
       "      <td>Pieter</td>\n",
       "      <td>Cramer</td>\n",
       "      <td>male</td>\n",
       "    </tr>\n",
       "    <tr>\n",
       "      <th>28</th>\n",
       "      <td>J.L.JohnLee)</td>\n",
       "      <td>Comstock</td>\n",
       "      <td>None</td>\n",
       "    </tr>\n",
       "    <tr>\n",
       "      <th>29</th>\n",
       "      <td>Ramamurti</td>\n",
       "      <td>Shankar</td>\n",
       "      <td>None</td>\n",
       "    </tr>\n",
       "  </tbody>\n",
       "</table>\n",
       "</div>"
      ],
      "text/plain": [
       "               first         last  gender\n",
       "0            Sheldon       Glueck    male\n",
       "1              Denis       Glover    male\n",
       "2            Antonio      Berlese    male\n",
       "3         JohnStuart         Mill    None\n",
       "4              Louis      Golding    male\n",
       "5             Ernest      Legouvé    male\n",
       "6           Bolesław         Prus    None\n",
       "7               Emma      Goldman  female\n",
       "8               Emma      Goldman  female\n",
       "9    WellsWoodbridge        Cooke    None\n",
       "10              Hans      Holbein    male\n",
       "11          Domenico        Gnoli    male\n",
       "12              Emma      Goldman  female\n",
       "13             Henry       Lawson    male\n",
       "14           Richard     Goldhahn    male\n",
       "15           Antonio        Conti    male\n",
       "16           Richard       Glover    male\n",
       "17              John    Constable    male\n",
       "18       C.Ochiltree    Macdonald    None\n",
       "19  LouisL.LouisLeo)       Snyder    None\n",
       "20              Jean       Gimpel  female\n",
       "21         LeonJacob         Cole    None\n",
       "22        Melchiorre        Gioja    None\n",
       "23            Robert  Goldschmidt    male\n",
       "24       HubertLyman        Clark    None\n",
       "25     SeymourMartin       Lipset    None\n",
       "26           Rudolph       Gneist    male\n",
       "27            Pieter       Cramer    male\n",
       "28      J.L.JohnLee)     Comstock    None\n",
       "29         Ramamurti      Shankar    None"
      ]
     },
     "execution_count": 11,
     "metadata": {},
     "output_type": "execute_result"
    }
   ],
   "source": [
    "df"
   ]
  },
  {
   "cell_type": "code",
   "execution_count": null,
   "metadata": {},
   "outputs": [],
   "source": []
  }
 ],
 "metadata": {
  "kernelspec": {
   "display_name": "Python 3",
   "language": "python",
   "name": "python3"
  },
  "language_info": {
   "codemirror_mode": {
    "name": "ipython",
    "version": 3
   },
   "file_extension": ".py",
   "mimetype": "text/x-python",
   "name": "python",
   "nbconvert_exporter": "python",
   "pygments_lexer": "ipython3",
   "version": "3.6.5"
  }
 },
 "nbformat": 4,
 "nbformat_minor": 2
}
